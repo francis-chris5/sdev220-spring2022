{
  "nbformat": 4,
  "nbformat_minor": 0,
  "metadata": {
    "colab": {
      "name": "Untitled3.ipynb",
      "provenance": [],
      "collapsed_sections": []
    },
    "kernelspec": {
      "name": "python3",
      "display_name": "Python 3"
    },
    "language_info": {
      "name": "python"
    }
  },
  "cells": [
    {
      "cell_type": "markdown",
      "source": [
        "<h3>import modules</h3>"
      ],
      "metadata": {
        "id": "-cLmNeYTr9Gk"
      }
    },
    {
      "cell_type": "code",
      "source": [
        "import abc"
      ],
      "metadata": {
        "id": "Hwp0Kk7ZsMo-"
      },
      "execution_count": 1,
      "outputs": []
    },
    {
      "cell_type": "markdown",
      "source": [
        "some shape classes, all shapes will have an area method..."
      ],
      "metadata": {
        "id": "HxMYYItCsafZ"
      }
    },
    {
      "cell_type": "code",
      "source": [
        "class Shape(metaclass=abc.ABCMeta):\n",
        "  def __init__(self):\n",
        "    pass\n",
        "\n",
        "\n",
        "  @abc.abstractmethod\n",
        "  def getArea(self):\n",
        "    return\n",
        "\n",
        "\n",
        "  def __eq__(self, other):\n",
        "    if self.getArea() == other.getArea():\n",
        "      return True\n",
        "    else:\n",
        "      return False\n",
        "\n",
        "  def __str__(self):\n",
        "    return f\"this shape has an area of {self.getArea()}\""
      ],
      "metadata": {
        "id": "HqCjG5wysR4z"
      },
      "execution_count": 2,
      "outputs": []
    },
    {
      "cell_type": "code",
      "source": [
        "from typing_extensions import SupportsIndex\n",
        "class Square(Shape):\n",
        "  def __init__(self, side):\n",
        "    self.side = side\n",
        "\n",
        "  def getArea(self):\n",
        "    return self.side * self.side\n",
        "\n",
        "\n",
        "\n",
        "class Rectangle():\n",
        "  def __init__(self, length, width):\n",
        "    self.length = length\n",
        "    self.width = width\n",
        "\n",
        "\n",
        "  def coverage(self):\n",
        "    return self.length * self.width\n",
        "\n",
        "\n",
        "\n"
      ],
      "metadata": {
        "id": "RgdgVM82udlo"
      },
      "execution_count": 3,
      "outputs": []
    },
    {
      "cell_type": "code",
      "source": [
        "cubeFace = Square(4)\n",
        "longThing = Rectangle(3, 4)"
      ],
      "metadata": {
        "id": "EOtLVHaav3yq"
      },
      "execution_count": 4,
      "outputs": []
    },
    {
      "cell_type": "code",
      "source": [
        "if isinstance(cubeFace, Shape):\n",
        "  print(\"I know the area of this...\")\n",
        "  print(cubeFace.getArea())\n",
        "else:\n",
        "  print(\"I have no idea what this is\")\n",
        "\n",
        "\n",
        "if isinstance(longThing, Shape):\n",
        "  print(\"I know the area of this...\")\n",
        "  print(str(longThing.getArea()))\n",
        "else:\n",
        "  print(\"I have no idea what this is\")\n"
      ],
      "metadata": {
        "colab": {
          "base_uri": "https://localhost:8080/"
        },
        "id": "fVgOTeqSwYy2",
        "outputId": "4a43e202-4e4a-4b5a-8cda-4cd5a273358c"
      },
      "execution_count": 5,
      "outputs": [
        {
          "output_type": "stream",
          "name": "stdout",
          "text": [
            "I know the area of this...\n",
            "16\n",
            "I have no idea what this is\n"
          ]
        }
      ]
    },
    {
      "cell_type": "code",
      "source": [
        ""
      ],
      "metadata": {
        "id": "K0iFCagJxK4x"
      },
      "execution_count": null,
      "outputs": []
    }
  ]
}