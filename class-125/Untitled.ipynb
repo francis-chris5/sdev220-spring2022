{
 "cells": [
  {
   "cell_type": "markdown",
   "id": "f271b745",
   "metadata": {},
   "source": [
    "<h1>Class example</h1>\n",
    "<p>html encoding is fine in jupyter markdown cells</p>"
   ]
  },
  {
   "cell_type": "code",
   "execution_count": 1,
   "id": "fb08ca36",
   "metadata": {},
   "outputs": [],
   "source": [
    "stuff = [i for i in range(12)]"
   ]
  },
  {
   "cell_type": "code",
   "execution_count": 2,
   "id": "1fe52bde",
   "metadata": {},
   "outputs": [
    {
     "name": "stdout",
     "output_type": "stream",
     "text": [
      "[0, 1, 2, 3, 4, 5, 6, 7, 8, 9, 10, 11]\n"
     ]
    }
   ],
   "source": [
    "print(stuff)"
   ]
  },
  {
   "cell_type": "markdown",
   "id": "e4001ec7",
   "metadata": {},
   "source": [
    "that was called a list comprehension we will go over those in class soon"
   ]
  },
  {
   "cell_type": "code",
   "execution_count": null,
   "id": "492392e2",
   "metadata": {},
   "outputs": [],
   "source": []
  }
 ],
 "metadata": {
  "kernelspec": {
   "display_name": "Python 3 (ipykernel)",
   "language": "python",
   "name": "python3"
  },
  "language_info": {
   "codemirror_mode": {
    "name": "ipython",
    "version": 3
   },
   "file_extension": ".py",
   "mimetype": "text/x-python",
   "name": "python",
   "nbconvert_exporter": "python",
   "pygments_lexer": "ipython3",
   "version": "3.9.2"
  }
 },
 "nbformat": 4,
 "nbformat_minor": 5
}
