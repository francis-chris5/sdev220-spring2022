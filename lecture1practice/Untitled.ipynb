{
 "cells": [
  {
   "cell_type": "markdown",
   "id": "cd154649",
   "metadata": {},
   "source": [
    "<h1>Hello World!!!</h1>\n",
    "<p>as you can see since notebooks run in browsers we can enter html code</p>"
   ]
  },
  {
   "cell_type": "markdown",
   "id": "c6f6f259",
   "metadata": {},
   "source": [
    "or you can just use regular text for the markdown cells"
   ]
  },
  {
   "cell_type": "code",
   "execution_count": 1,
   "id": "d8b9f43c",
   "metadata": {},
   "outputs": [],
   "source": [
    "someInts = [i for i in range(12)]"
   ]
  },
  {
   "cell_type": "code",
   "execution_count": 2,
   "id": "e2a1e3cc",
   "metadata": {},
   "outputs": [
    {
     "name": "stdout",
     "output_type": "stream",
     "text": [
      "[0, 1, 2, 3, 4, 5, 6, 7, 8, 9, 10, 11]\n"
     ]
    }
   ],
   "source": [
    "print(someInts)"
   ]
  },
  {
   "cell_type": "markdown",
   "id": "3fb0482b",
   "metadata": {},
   "source": [
    "<strong>notice the difference in how that list was created compared to how you probably saw that in sdev 140, that's called a list comprehension, we'll see them soon in excrutiating detail</strong>"
   ]
  },
  {
   "cell_type": "code",
   "execution_count": null,
   "id": "5d380391",
   "metadata": {},
   "outputs": [],
   "source": []
  }
 ],
 "metadata": {
  "kernelspec": {
   "display_name": "Python 3 (ipykernel)",
   "language": "python",
   "name": "python3"
  },
  "language_info": {
   "codemirror_mode": {
    "name": "ipython",
    "version": 3
   },
   "file_extension": ".py",
   "mimetype": "text/x-python",
   "name": "python",
   "nbconvert_exporter": "python",
   "pygments_lexer": "ipython3",
   "version": "3.9.2"
  }
 },
 "nbformat": 4,
 "nbformat_minor": 5
}
